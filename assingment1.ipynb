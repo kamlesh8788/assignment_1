{
 "cells": [
  {
   "cell_type": "markdown",
   "id": "d3ac3593-ee91-4865-b417-5b2da90b4334",
   "metadata": {},
   "source": [
    "#1. What is Python, and why is it popular ?.\n",
    "\n",
    "ans= python is a high level interpreted, genral purpose programming langauge python is made in 1991 by guido van rossum it is a platform independent \n",
    "langauge  it is very popular because it Can be used in Data Science, Machine Learning, Web Development Cybersecurity etc it has varity of libraries \n",
    "like (NumPy, Pandas, TensorFlow, Django, Flask, etc.) python can be used in rapid devlopment and it is cost effective because most of libraries are open source\n"
   ]
  },
  {
   "cell_type": "markdown",
   "id": "f16ec951-79b9-43f0-91b7-742d8d2c293b",
   "metadata": {},
   "source": [
    "# ##\n",
    "2. What is an interpreter in Python ?\n",
    "\n",
    "ans= an interpreter is an machine  language translator which transalte high level language to low level language\n",
    "The interpreter translates it line by line into low-level instructions or machine code rather then compiler translating the entire program into machine code at once."
   ]
  },
  {
   "cell_type": "markdown",
   "id": "e6ea994a-14b1-4d9d-860a-72c3e473061a",
   "metadata": {},
   "source": [
    "3. What are pre-defined keywords in Python ?\n",
    "\n",
    "ans= Keywords are reserved words in Python They have a special meaning and specific purpose in the language\n",
    "They help define the syntax and structure of Python programs.\n"
   ]
  },
  {
   "cell_type": "markdown",
   "id": "5e4b9568-a3b0-4603-adb5-7c0a92d5676a",
   "metadata": {},
   "source": [
    "4. Can keywords be used as variable names ?\n",
    "\n",
    "ans = no keywords can not be used to make python variable if we will use keyword for variable it will give errors to the program \n",
    "They already have a predefined meaning in the language like print() it has own work in lanaguage\n"
   ]
  },
  {
   "cell_type": "markdown",
   "id": "4651ba2a-325d-4c85-ada8-da151c2367ee",
   "metadata": {},
   "source": [
    "5. What is mutability in Python ?\n",
    "\n",
    "ans= mutablity in python means object’s or variable value can be changed after creation. Lists are mutable, strings are immutable\n"
   ]
  },
  {
   "cell_type": "markdown",
   "id": "9a69dec1-c3c0-46a5-a75b-1aa9584aaddb",
   "metadata": {},
   "source": [
    "6. Why are lists mutable, but tuples are immutable ?\n",
    "\n",
    "ans= lists are mutable because they are made for dynamic data where frequent changes are needed  appending updating values ,like CRUD \n",
    "tuples= tuples are immutable because they are meant for for fixed data where frequently changes are not required \n",
    "immutability also improves performance and safety in multi-threaded environment\n"
   ]
  },
  {
   "cell_type": "markdown",
   "id": "64a57501-d2f9-48a4-be63-bebcd1bce26d",
   "metadata": {},
   "source": [
    "7.  What is the difference between “==” and “is” operators in Python ?\n",
    "\n",
    "ans =  (==) checks if the values are the same in variable or objects\n",
    " (is) checks  varaible data are in same memory location.\n",
    "\n",
    "a = [1, 2, 3]\n",
    "b = [1, 2, 3]\n",
    "\n",
    "print(a == b)   True  \n",
    "print(a is b)   False\n"
   ]
  },
  {
   "cell_type": "markdown",
   "id": "325c917a-2d0e-43c1-a026-3721240c81ad",
   "metadata": {},
   "source": [
    "8. What are logical operators in Python ?\n",
    "\n",
    "\n",
    "ans = Logical operators are used to combine conditional statements that returns true or false\n",
    "there are three logical operators 1 AND = where both coondition should be true \n",
    "or → at least one condition is True\n",
    "not → reverses True/False\n"
   ]
  },
  {
   "cell_type": "markdown",
   "id": "1a4b708f-adc0-48f8-b02d-866d3d476fdc",
   "metadata": {},
   "source": [
    "\n",
    "\n",
    "9. What is type casting in Python ?\n",
    "\n",
    "ans= Type casting means converting one data type into another in Python like '10' string to int()\n",
    "     sometimes we need to change data type for some reasons \n",
    "     there are two types of typecasting 1.implicit typecasting where it automatically done by python \n",
    "      2.Explicit Type Casting = manualy we typecast data for our use"
   ]
  },
  {
   "cell_type": "markdown",
   "id": "11971e56-a052-4a01-9bd1-b88ba58e092a",
   "metadata": {},
   "source": [
    "10.  What is the difference between implicit and explicit type casting ?\n",
    "  \n",
    " 1.implicit\n",
    "Python automatically converts one data type to another.\n",
    "we don’t write any extra code.\n",
    "2.Explicit\n",
    "we manually convert one data type to another  we use functions like int(), float(), str()  Also called type casting."
   ]
  },
  {
   "cell_type": "markdown",
   "id": "8aa45ff2-2487-47b0-9e22-7a0c0e4cac99",
   "metadata": {},
   "source": [
    " 11. What is the purpose of conditional statements in Python ?\n",
    "\n",
    " ans = these are used to make decisions in a program They allow the program to execute certain code only if a condition is true\n",
    "        To control program flow based on conditions.\n",
    "        To make decisions dynamically at runtime. \n",
    "        To avoid executing code unnecessarily.\n",
    "        conditional statments in python are made using\n",
    "        IF\n",
    "        else\n",
    "        elif\n",
    "\n"
   ]
  },
  {
   "cell_type": "markdown",
   "id": "c87e6761-e8f2-44ea-b847-022df73d957e",
   "metadata": {},
   "source": [
    "12. How does the elif statement work :\n",
    "\n",
    "ans = elif staments only runs when intial if condition gets false it check for from top to bottom\n",
    "       we can write multipal elif statments after if only one block of code will be executed if multipal\n",
    "       condition gets true we use it for multipal condition \n",
    "       "
   ]
  },
  {
   "cell_type": "markdown",
   "id": "988b9b92-b787-45f2-b758-fae22227fb39",
   "metadata": {},
   "source": [
    "13. What is the difference between for and while loops ?\n",
    "\n",
    "\n",
    "ANS= Used when we know exactly how many times we want to repeat something.\n",
    "Iterates over a sequence (like list, tuple, string, or range)\n",
    "for loop runs for the given value or if sequence it will run for last index\n",
    "\n",
    "while loop = Used when we don’t know exactly how many times we need to repeat.\n",
    "\n",
    "Keeps running as long as a condition is True. after getting condition false loops gets stoped if condition will not get false it will run infinite times\n"
   ]
  },
  {
   "cell_type": "markdown",
   "id": "b04c5ec0-10da-4e64-8f89-5f8c4d789bd6",
   "metadata": {},
   "source": [
    "14. #Describe a scenario where a while loop is more suitable than a for loop\n",
    "\n",
    "\n",
    "ans = we don’t know in advance how many attempts it will take for you to enter the correct PIN.\n",
    "\n",
    "The program should keep asking you until you enter the correct PIN.\n",
    "\n",
    "A for loop is less suitable because it needs a fixed number of iterations, which may not match our actual attempts.\n",
    "#Example (Conceptual):\n",
    "\n",
    "#The program asks you to enter a PIN.\n",
    "#It keeps asking while your PIN is incorrect.\n",
    "\n",
    "#It stops only when you enter the correct PIN or reach the maximum number of attempts.\n",
    "\n"
   ]
  },
  {
   "cell_type": "code",
   "execution_count": 11,
   "id": "b8f2db99-3ca8-4432-bf8c-c784e6a22e79",
   "metadata": {},
   "outputs": [
    {
     "name": "stdout",
     "output_type": "stream",
     "text": [
      "Hello, World!\n"
     ]
    }
   ],
   "source": [
    "#   Write a Python program to print \"Hello, World!y\n",
    "a=\"Hello, World!\"\n",
    "print(a)"
   ]
  },
  {
   "cell_type": "markdown",
   "id": "281ee068-5fb5-4aa3-b6cb-3ceaedbe2e49",
   "metadata": {},
   "source": [
    "2. Write a Python program that displays your name and age"
   ]
  },
  {
   "cell_type": "code",
   "execution_count": 12,
   "id": "4e33552e-ca60-48d5-aaa7-dfbaa791b18e",
   "metadata": {},
   "outputs": [
    {
     "name": "stdout",
     "output_type": "stream",
     "text": [
      "harry 25\n"
     ]
    }
   ],
   "source": [
    "name=\"harry\"\n",
    "age=25\n",
    "print(name,age)"
   ]
  },
  {
   "cell_type": "markdown",
   "id": "5a5f4c2c-62de-43ff-9e72-98ffabe6872d",
   "metadata": {},
   "source": [
    "3. Write code to print all the pre-defined keywords in Python using the keyword library"
   ]
  },
  {
   "cell_type": "code",
   "execution_count": 22,
   "id": "958fccfb-f8de-490a-846c-f47930d2e0ae",
   "metadata": {},
   "outputs": [
    {
     "name": "stdout",
     "output_type": "stream",
     "text": [
      "All Python keywords:\n",
      "['False', 'None', 'True', 'and', 'as', 'assert', 'async', 'await', 'break', 'class', 'continue', 'def', 'del', 'elif', 'else', 'except', 'finally', 'for', 'from', 'global', 'if', 'import', 'in', 'is', 'lambda', 'nonlocal', 'not', 'or', 'pass', 'raise', 'return', 'try', 'while', 'with', 'yield']\n",
      "\n",
      "Total keywords: 35\n"
     ]
    }
   ],
   "source": [
    "import keyword \n",
    "print(\"All Python keywords are :\")\n",
    "print(keyword.kwlist)\n",
    "\n",
    "print(\"\\nTotal keywords:\", len(keyword.kwlist))\n"
   ]
  },
  {
   "cell_type": "markdown",
   "id": "448cfdc4-74db-44af-aa16-c14bc25bbeb5",
   "metadata": {},
   "source": [
    "4. Write a program that checks if a given word is a Python keyword."
   ]
  },
  {
   "cell_type": "code",
   "execution_count": 26,
   "id": "17716fcd-307b-42bf-81f4-46a113adcf84",
   "metadata": {},
   "outputs": [
    {
     "name": "stdin",
     "output_type": "stream",
     "text": [
      "Enter a word to check:  len\n"
     ]
    },
    {
     "name": "stdout",
     "output_type": "stream",
     "text": [
      "'else' is NOT a Python keyword.\n"
     ]
    }
   ],
   "source": [
    "words = input(\"Enter a word to check: \")\n",
    "\n",
    "# Check if it is a Python keyword\n",
    "if keyword.iskeyword(words):\n",
    "    print(f\"'{word}' is a Python keyword.\")\n",
    "else:\n",
    "    print(f\"'{word}' is NOT a Python keyword.\")"
   ]
  },
  {
   "cell_type": "markdown",
   "id": "9d3b44eb-10d8-41a8-b49b-75aca2e04cfd",
   "metadata": {},
   "source": [
    "5 . Create a list and tuple in Python, and demonstrate how attempting to change an element works differently\n",
    "for each."
   ]
  },
  {
   "cell_type": "code",
   "execution_count": 68,
   "id": "ae423d0c-bdad-40d4-9549-62436fad317e",
   "metadata": {},
   "outputs": [
    {
     "name": "stdout",
     "output_type": "stream",
     "text": [
      "Original list: [1, 2, 3]\n",
      "After modification (list): [1, 2, 3, 4]\n",
      "\n",
      "\n",
      "Original string: hello 2350801081792\n",
      "After modification (string): hello world\n",
      "11\n",
      "2350852729904\n"
     ]
    }
   ],
   "source": [
    "my_list = [1, 2, 3]\n",
    "print(\"Original list:\", my_list)\n",
    "\n",
    "# Modify list directly\n",
    "my_list.append(4)\n",
    "print(\"After modification (list):\", my_list)\n",
    "\n",
    "print(\"\\n\")\n",
    "\n",
    "# Immutable example (string)\n",
    "my_string = \"hello\"\n",
    "print(\"Original string:\", my_string,id(my_string))# both memory location are diffrent\n",
    "\n",
    "# Attempt to modify string\n",
    "my_string += \" world\"  # creates a new string, original string unchanged\n",
    "print(\"After modification (string):\", my_string)\n",
    "print(len(my_string))\n",
    "print(id(my_string))\n"
   ]
  },
  {
   "cell_type": "code",
   "execution_count": 31,
   "id": "2e13f3ee-d46d-44b2-a0d3-a595ed91f668",
   "metadata": {},
   "outputs": [
    {
     "name": "stdout",
     "output_type": "stream",
     "text": [
      "[1, 2, 3, 5]\n",
      "(1, 2, 3, 5)\n",
      "[4, 2, 3, 5]\n"
     ]
    },
    {
     "ename": "TypeError",
     "evalue": "'tuple' object does not support item assignment",
     "output_type": "error",
     "traceback": [
      "\u001b[31m---------------------------------------------------------------------------\u001b[39m",
      "\u001b[31mTypeError\u001b[39m                                 Traceback (most recent call last)",
      "\u001b[36mCell\u001b[39m\u001b[36m \u001b[39m\u001b[32mIn[31]\u001b[39m\u001b[32m, line 7\u001b[39m\n\u001b[32m      5\u001b[39m list1[\u001b[32m0\u001b[39m]=\u001b[32m4\u001b[39m\n\u001b[32m      6\u001b[39m \u001b[38;5;28mprint\u001b[39m(list1)\n\u001b[32m----> \u001b[39m\u001b[32m7\u001b[39m \u001b[43mtuple1\u001b[49m\u001b[43m[\u001b[49m\u001b[32;43m0\u001b[39;49m\u001b[43m]\u001b[49m=\u001b[32m10\u001b[39m\n\u001b[32m      8\u001b[39m \u001b[38;5;28mprint\u001b[39m(tuple1)\n",
      "\u001b[31mTypeError\u001b[39m: 'tuple' object does not support item assignment"
     ]
    }
   ],
   "source": [
    "list1=[1,2,3,5]\n",
    "tuple1=(1,2,3,5)\n",
    "print(list1)\n",
    "print(tuple1)\n",
    "list1[0]=4\n",
    "print(list1)\n",
    "tuple1[0]=10\n",
    "print(tuple1)\n",
    "# it will give errror because tuples are immutable we can not change or modify them after creating\n"
   ]
  },
  {
   "cell_type": "markdown",
   "id": "833eb54f-e33a-4fcc-ade2-bd0f04c59820",
   "metadata": {},
   "source": [
    "7. Write a program that performs basic arithmetic operations on two user-input numbers."
   ]
  },
  {
   "cell_type": "code",
   "execution_count": 32,
   "id": "c4a6f12f-8dd9-4293-b09f-1e021b0e954c",
   "metadata": {},
   "outputs": [
    {
     "name": "stdin",
     "output_type": "stream",
     "text": [
      "Enter first number:  5\n",
      "Enter second number:  5\n"
     ]
    },
    {
     "name": "stdout",
     "output_type": "stream",
     "text": [
      "\n",
      "Results:\n",
      "Addition: 10.0\n",
      "Subtraction: 0.0\n",
      "Multiplication: 25.0\n"
     ]
    }
   ],
   "source": [
    "num1 = float(input(\"Enter first number: \"))\n",
    "num2 = float(input(\"Enter second number: \"))\n",
    "\n",
    "#basic arithmetic operations\n",
    "addition = num1 + num2\n",
    "subtraction = num1 - num2\n",
    "multiplication = num1 * num2\n",
    "print(\"\\nResults:\")\n",
    "print(\"Addition:\", addition)\n",
    "print(\"Subtraction:\", subtraction)\n",
    "print(\"Multiplication:\", multiplication)\n"
   ]
  },
  {
   "cell_type": "markdown",
   "id": "e2b8c48b-55fa-403d-b610-fcd1d899a7a9",
   "metadata": {},
   "source": [
    "8. Write a program to demonstrate the use of logical operators."
   ]
  },
  {
   "cell_type": "code",
   "execution_count": 33,
   "id": "4a36cd72-3ea3-492d-b48f-e5774835e57b",
   "metadata": {},
   "outputs": [
    {
     "name": "stdin",
     "output_type": "stream",
     "text": [
      "Enter your age:  22\n",
      "Are you a citizen? (yes/no):  yes\n"
     ]
    },
    {
     "name": "stdout",
     "output_type": "stream",
     "text": [
      "You are eligible to vote.\n"
     ]
    }
   ],
   "source": [
    "age = int(input(\"Enter your age: \"))\n",
    "citizen = input(\"Are you a citizen? (yes/no): \").lower()\n",
    "\n",
    "if age >= 18 and citizen == \"yes\":\n",
    "    print(\"You are eligible to vote.\")\n",
    "elif age < 18 or citizen != \"yes\":\n",
    "    print(\"You are NOT eligible to vote.\")"
   ]
  },
  {
   "cell_type": "markdown",
   "id": "211f2560-f674-4d74-a77b-0cda4f2889d3",
   "metadata": {},
   "source": [
    " 9. Write a Python program to convert user input from string to integer, float, and boolean types."
   ]
  },
  {
   "cell_type": "code",
   "execution_count": 44,
   "id": "2ae6c111-68da-4c8b-bd68-db3efdbcb4ae",
   "metadata": {},
   "outputs": [
    {
     "name": "stdin",
     "output_type": "stream",
     "text": [
      "Enter something:  5\n"
     ]
    },
    {
     "name": "stdout",
     "output_type": "stream",
     "text": [
      "<class 'str'>\n",
      "Integer: 5\n",
      "Float: 5.0\n",
      "Boolean: True\n",
      "10.0\n"
     ]
    }
   ],
   "source": [
    "user = input(\"Enter something: \")\n",
    "print(type(user))\n",
    "\n",
    "print(\"Integer:\", int(user))\n",
    "print(\"Float:\", float(user))\n",
    "print(\"Boolean:\", bool(user))\n",
    "print(int(user)+float(user))"
   ]
  },
  {
   "cell_type": "markdown",
   "id": "852715c1-92d6-47fb-9bda-466f9b12f825",
   "metadata": {},
   "source": [
    "10. Write code to demonstrate type casting with list elements."
   ]
  },
  {
   "cell_type": "code",
   "execution_count": 45,
   "id": "ef7bacd9-0d21-4224-b846-9430bf4ee7fb",
   "metadata": {},
   "outputs": [
    {
     "name": "stdout",
     "output_type": "stream",
     "text": [
      "Original list (strings): ['1', '2', '3', '4']\n",
      "Converted to integers: [1, 2, 3, 4]\n"
     ]
    }
   ],
   "source": [
    "str_list = ['1', '2', '3', '4']\n",
    "\n",
    "print(\"Original list (strings):\", str_list)\n",
    "int_list = []\n",
    "for num in str_list:\n",
    "    int_list.append(int(num))\n",
    "print(\"Converted to integers:\", int_list)"
   ]
  },
  {
   "cell_type": "markdown",
   "id": "a6bc5d58-1bd9-49f1-9a80-1be0788bbaca",
   "metadata": {},
   "source": [
    "11.  Write a program that checks if a number is positive, negative, or zero."
   ]
  },
  {
   "cell_type": "code",
   "execution_count": null,
   "id": "83aab743-ba7b-4839-b03e-d0d2dce0296f",
   "metadata": {},
   "outputs": [],
   "source": [
    "num = float(input(\"Enter a number: \"))\n",
    "\n",
    "\n",
    "if num > 0:\n",
    "    print(\"The number is positive.\")\n",
    "elif num < 0:\n",
    "    print(\"The number is negative.\")\n",
    "else:\n",
    "    print(\"The number is zero.\")"
   ]
  },
  {
   "cell_type": "markdown",
   "id": "011eb77d-c8e4-4df6-a377-3045e3ca8232",
   "metadata": {},
   "source": [
    "12. Write a for loop to print numbers from 1 to 10."
   ]
  },
  {
   "cell_type": "code",
   "execution_count": 48,
   "id": "d89f388c-5154-4358-8134-9a937bd9dfde",
   "metadata": {},
   "outputs": [
    {
     "name": "stdout",
     "output_type": "stream",
     "text": [
      "1\n",
      "2\n",
      "3\n",
      "4\n",
      "5\n",
      "6\n",
      "7\n",
      "8\n",
      "9\n",
      "10\n"
     ]
    }
   ],
   "source": [
    "for num in range(1,11):\n",
    "    print(num)"
   ]
  },
  {
   "cell_type": "markdown",
   "id": "aed79c88-825e-46bd-b8fc-f11e41052311",
   "metadata": {},
   "source": [
    "13. Write a Python program to find the sum of all even numbers between 1 and 50."
   ]
  },
  {
   "cell_type": "code",
   "execution_count": 51,
   "id": "911e0ddf-7851-4a29-851c-234cde3fb76e",
   "metadata": {},
   "outputs": [
    {
     "name": "stdout",
     "output_type": "stream",
     "text": [
      "sum  of all even number from 1 to 50 is = 650\n"
     ]
    }
   ],
   "source": [
    "sum=0\n",
    "for i in range(1,51):\n",
    "    if i%2==0:\n",
    "        sum +=i\n",
    "print(\"sum  of all even number from 1 to 50 is =\",sum)"
   ]
  },
  {
   "cell_type": "markdown",
   "id": "8afbe1dd-233b-4ee9-979c-7d1656a9dd88",
   "metadata": {},
   "source": [
    "14. Write a program to reverse a string using a while loop."
   ]
  },
  {
   "cell_type": "code",
   "execution_count": 52,
   "id": "7649a988-a739-49b2-a2e0-8111b361f240",
   "metadata": {},
   "outputs": [
    {
     "name": "stdin",
     "output_type": "stream",
     "text": [
      "Enter a string:  hello\n"
     ]
    },
    {
     "name": "stdout",
     "output_type": "stream",
     "text": [
      "Reversed string: olleh\n"
     ]
    }
   ],
   "source": [
    "\n",
    "s = input(\"Enter a string: \")\n",
    "rev = \"\"\n",
    "i = 0\n",
    "\n",
    "# Reverse using while loop\n",
    "while i < len(s):\n",
    "    rev = s[i] + rev  # prepend current character\n",
    "    i += 1\n",
    "\n",
    "print(\"Reversed string:\", rev)"
   ]
  },
  {
   "cell_type": "markdown",
   "id": "8177c370-4828-4a4e-8d76-acf344bfc2de",
   "metadata": {},
   "source": [
    "15 Write a Python program to calculate the factorial of a number provided by the user using a while loop"
   ]
  },
  {
   "cell_type": "code",
   "execution_count": 62,
   "id": "f5ff8ce0-c9ef-4b70-b5db-b28b45ad09c6",
   "metadata": {},
   "outputs": [
    {
     "name": "stdin",
     "output_type": "stream",
     "text": [
      "enter a number : 5\n"
     ]
    },
    {
     "name": "stdout",
     "output_type": "stream",
     "text": [
      "120\n"
     ]
    }
   ],
   "source": [
    "num=int(input(\"enter a number :\" ))\n",
    "prod=1\n",
    "i=1\n",
    "while i<num+1:\n",
    "    prod=prod*i\n",
    "    i+=1\n",
    "\n",
    "print(prod)"
   ]
  },
  {
   "cell_type": "code",
   "execution_count": null,
   "id": "9b338b20-63b2-4bc9-b74b-b6cf4948c5a0",
   "metadata": {},
   "outputs": [],
   "source": []
  }
 ],
 "metadata": {
  "kernelspec": {
   "display_name": "Python 3 (ipykernel)",
   "language": "python",
   "name": "python3"
  },
  "language_info": {
   "codemirror_mode": {
    "name": "ipython",
    "version": 3
   },
   "file_extension": ".py",
   "mimetype": "text/x-python",
   "name": "python",
   "nbconvert_exporter": "python",
   "pygments_lexer": "ipython3",
   "version": "3.13.5"
  }
 },
 "nbformat": 4,
 "nbformat_minor": 5
}
